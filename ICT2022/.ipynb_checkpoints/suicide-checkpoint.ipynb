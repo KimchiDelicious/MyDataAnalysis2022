{
 "cells": [
  {
   "cell_type": "code",
   "execution_count": 1,
   "id": "ce3c51d7",
   "metadata": {},
   "outputs": [],
   "source": [
    "import pandas as pd"
   ]
  },
  {
   "cell_type": "code",
   "execution_count": 2,
   "id": "ac5b8f85",
   "metadata": {},
   "outputs": [
    {
     "data": {
      "text/plain": [
       "((549, 6), (112, 7), (107, 6))"
      ]
     },
     "execution_count": 2,
     "metadata": {},
     "output_type": "execute_result"
    }
   ],
   "source": [
    "sr = pd.read_csv('datasets/Age-standardized suicide rates.csv')\n",
    "fc = pd.read_csv('datasets/Facilities.csv')\n",
    "hr = pd.read_csv('datasets/Human Resources.csv')\n",
    "\n",
    "sr.shape, fc.shape, hr.shape"
   ]
  },
  {
   "cell_type": "code",
   "execution_count": 3,
   "id": "9e694c8c",
   "metadata": {},
   "outputs": [
    {
     "name": "stdout",
     "output_type": "stream",
     "text": [
      "<class 'pandas.core.frame.DataFrame'>\n",
      "RangeIndex: 549 entries, 0 to 548\n",
      "Data columns (total 6 columns):\n",
      " #   Column   Non-Null Count  Dtype  \n",
      "---  ------   --------------  -----  \n",
      " 0   Country  549 non-null    object \n",
      " 1   Sex      549 non-null    object \n",
      " 2   2016     549 non-null    float64\n",
      " 3   2015     549 non-null    float64\n",
      " 4   2010     549 non-null    float64\n",
      " 5   2000     549 non-null    float64\n",
      "dtypes: float64(4), object(2)\n",
      "memory usage: 25.9+ KB\n"
     ]
    }
   ],
   "source": [
    "sr.info()"
   ]
  },
  {
   "cell_type": "code",
   "execution_count": 7,
   "id": "e2ffcc0f",
   "metadata": {},
   "outputs": [
    {
     "ename": "TypeError",
     "evalue": "unsupported operand type(s) for +: 'set' and 'set'",
     "output_type": "error",
     "traceback": [
      "\u001b[1;31m---------------------------------------------------------------------------\u001b[0m",
      "\u001b[1;31mTypeError\u001b[0m                                 Traceback (most recent call last)",
      "Input \u001b[1;32mIn [7]\u001b[0m, in \u001b[0;36m<cell line: 7>\u001b[1;34m()\u001b[0m\n\u001b[0;32m      5\u001b[0m col3 \u001b[38;5;241m=\u001b[39m sr[\u001b[38;5;124m'\u001b[39m\u001b[38;5;124mCountry\u001b[39m\u001b[38;5;124m'\u001b[39m]\u001b[38;5;241m.\u001b[39mvalues\n\u001b[0;32m      6\u001b[0m col3 \u001b[38;5;241m=\u001b[39m \u001b[38;5;28mlist\u001b[39m(col3)\n\u001b[1;32m----> 7\u001b[0m col \u001b[38;5;241m=\u001b[39m \u001b[38;5;28;43mset\u001b[39;49m\u001b[43m(\u001b[49m\u001b[43mcol1\u001b[49m\u001b[43m)\u001b[49m\u001b[43m \u001b[49m\u001b[38;5;241;43m+\u001b[39;49m\u001b[43m \u001b[49m\u001b[38;5;28;43mset\u001b[39;49m\u001b[43m(\u001b[49m\u001b[43mcol2\u001b[49m\u001b[43m)\u001b[49m \u001b[38;5;241m+\u001b[39m \u001b[38;5;28mset\u001b[39m(col3)\n\u001b[0;32m      8\u001b[0m col\n",
      "\u001b[1;31mTypeError\u001b[0m: unsupported operand type(s) for +: 'set' and 'set'"
     ]
    }
   ],
   "source": [
    "col1 = hr['Country'].values\n",
    "col1 = list(col1)\n",
    "col2 = fc['Country'].values\n",
    "col2 = list(col2)\n",
    "col3 = sr['Country'].values\n",
    "col3 = list(col3)\n",
    "col = set(col1) & set(col2)  set(col3)\n",
    "col"
   ]
  },
  {
   "cell_type": "code",
   "execution_count": 5,
   "id": "23064a95",
   "metadata": {},
   "outputs": [
    {
     "data": {
      "text/plain": [
       "(312, 6)"
      ]
     },
     "execution_count": 5,
     "metadata": {},
     "output_type": "execute_result"
    }
   ],
   "source": [
    "sel = [sr['Country'][x] in col for x in range(0,sr.shape[0])]\n",
    "sr_ = sr.loc[sel,:]\n",
    "sr_.shape"
   ]
  },
  {
   "cell_type": "code",
   "execution_count": null,
   "id": "478bfc0d",
   "metadata": {},
   "outputs": [],
   "source": []
  }
 ],
 "metadata": {
  "kernelspec": {
   "display_name": "Python 3 (ipykernel)",
   "language": "python",
   "name": "python3"
  },
  "language_info": {
   "codemirror_mode": {
    "name": "ipython",
    "version": 3
   },
   "file_extension": ".py",
   "mimetype": "text/x-python",
   "name": "python",
   "nbconvert_exporter": "python",
   "pygments_lexer": "ipython3",
   "version": "3.8.13"
  }
 },
 "nbformat": 4,
 "nbformat_minor": 5
}
